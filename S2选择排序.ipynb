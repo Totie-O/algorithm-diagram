{
 "cells": [
  {
   "cell_type": "markdown",
   "metadata": {},
   "source": [
    "# 选择排序"
   ]
  },
  {
   "cell_type": "markdown",
   "metadata": {},
   "source": [
    "对数组里的数值全部与第一个值进行**大小比较**，并返回最小值的位置\n",
    "   * 以数组第一个数做为基准值，取得第一个数的值，以及第一个数的位置\n",
    "   * 从第二个值开始循环数组，直到结束\n",
    "      * 如果后面的值比第一个还小\n",
    "          * 则重新定义**最小值**\n",
    "          * 以及重新定义**最小值的位置**\n",
    "   * 返回最小值的位置"
   ]
  },
  {
   "cell_type": "code",
   "execution_count": 1,
   "metadata": {},
   "outputs": [],
   "source": [
    "def findSmallest(arr):\n",
    "    '''\n",
    "    对数组里的数值全部与第一个值进行大小比较，并返回最小值的位置\n",
    "    '''\n",
    "    smallest = arr[0] # 取得第一个数的值\n",
    "    smallest_index = 0 # 以及第一个数的位置\n",
    "    \n",
    "    for i in range(1, len(arr)): # 从第二个值开始循环数组，直到结束\n",
    "        if arr[i] < smallest: # 如果后面的值比第一个还小\n",
    "            smallest = arr[i] # 则重新定义最小值\n",
    "            smallest_index = i # 以及重新定义最小值的位置\n",
    "    return smallest_index # 返回最小值的位置"
   ]
  },
  {
   "cell_type": "code",
   "execution_count": 24,
   "metadata": {},
   "outputs": [
    {
     "name": "stdout",
     "output_type": "stream",
     "text": [
      "[20, 3, 43, 90, 23, 45, 5, 47, 50, 26]\n"
     ]
    }
   ],
   "source": [
    "import random\n",
    "\n",
    "ls = []\n",
    "for i in range(10):\n",
    "    ls.append(random.randint(1, 100))\n",
    "\n",
    "print(ls)"
   ]
  },
  {
   "cell_type": "code",
   "execution_count": 25,
   "metadata": {},
   "outputs": [
    {
     "data": {
      "text/plain": [
       "1"
      ]
     },
     "execution_count": 25,
     "metadata": {},
     "output_type": "execute_result"
    }
   ],
   "source": [
    "findSmallest(ls)"
   ]
  },
  {
   "cell_type": "markdown",
   "metadata": {},
   "source": [
    "# 重新组装"
   ]
  },
  {
   "cell_type": "markdown",
   "metadata": {},
   "source": [
    "定义一个新的**空**数组  \n",
    "\n",
    "原数组有多少个数值，就循环多少次  \n",
    "利用前面的函数，取得**最小值的位置**  \n",
    "每次循环**空数组**就添加一个最小值，相应的原数组就去掉最小的数值  \n",
    "\n",
    "结果返回一个新的从小到大排列的数组"
   ]
  },
  {
   "cell_type": "code",
   "execution_count": 26,
   "metadata": {},
   "outputs": [],
   "source": [
    "def selectionSort(arr):\n",
    "    '''\n",
    "    对每次取得的最小值进行组装，返回一个新的由大到小的数组\n",
    "    '''\n",
    "    newArr = [] # 定义一个新的空数组\n",
    "    \n",
    "    for i in range(len(arr)): # 原数组有多少个数值，就循环多少次，直到所有的数值都添加到了空数组\n",
    "        smallest = findSmallest(arr) # 利用前面的函数， 取得最小值的位置\n",
    "        newArr.append(arr.pop(smallest)) #每次循环空数值就添加一个最小值，相应的原数组就去掉最小的数值\n",
    "        \n",
    "    return newArr"
   ]
  },
  {
   "cell_type": "code",
   "execution_count": 27,
   "metadata": {},
   "outputs": [],
   "source": [
    "lst = [20, 49, 26, 18, 53, 22, 98, 87, 98, 69, 77]"
   ]
  },
  {
   "cell_type": "code",
   "execution_count": 28,
   "metadata": {},
   "outputs": [
    {
     "data": {
      "text/plain": [
       "[18, 20, 22, 26, 49, 53, 69, 77, 87, 98, 98]"
      ]
     },
     "execution_count": 28,
     "metadata": {},
     "output_type": "execute_result"
    }
   ],
   "source": [
    "selectionSort(lst)"
   ]
  },
  {
   "cell_type": "code",
   "execution_count": null,
   "metadata": {},
   "outputs": [],
   "source": []
  }
 ],
 "metadata": {
  "kernelspec": {
   "display_name": "Python 3",
   "language": "python",
   "name": "python3"
  },
  "language_info": {
   "codemirror_mode": {
    "name": "ipython",
    "version": 3
   },
   "file_extension": ".py",
   "mimetype": "text/x-python",
   "name": "python",
   "nbconvert_exporter": "python",
   "pygments_lexer": "ipython3",
   "version": "3.7.4"
  }
 },
 "nbformat": 4,
 "nbformat_minor": 4
}
