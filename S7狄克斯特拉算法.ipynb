{
 "cells": [
  {
   "cell_type": "markdown",
   "metadata": {},
   "source": [
    "# 狄克斯特拉算法"
   ]
  },
  {
   "cell_type": "markdown",
   "metadata": {},
   "source": [
    "## 建立图像模型"
   ]
  },
  {
   "cell_type": "markdown",
   "metadata": {},
   "source": [
    "创建一个图像模型，这个模型包含所有节点与节点之间的对应关系以及对应的距离关系  \n",
    "创建一个起点`start(dict)`,用dict字典映射start跟a、b的距离关系  \n",
    "创建一个`a(dict)`,用dict映射终点fin跟a的距离关系  \n",
    "创建一个`b(dict)`,用dict映射a跟终点fin的距离关系  \n",
    "创建一个终点`fin(dict)`  "
   ]
  },
  {
   "cell_type": "code",
   "execution_count": 2,
   "metadata": {},
   "outputs": [],
   "source": [
    "graph = {}\n",
    "graph['start'] = {}\n",
    "graph['start']['a'] = 6\n",
    "graph['start']['b'] = 2\n",
    "graph['a'] = {}\n",
    "graph['a']['fin'] = 1\n",
    "graph['b'] = {}\n",
    "graph['b']['a'] = 3\n",
    "graph['b']['fin'] = 5\n",
    "graph['fin'] = {}"
   ]
  },
  {
   "cell_type": "code",
   "execution_count": 3,
   "metadata": {},
   "outputs": [
    {
     "name": "stdout",
     "output_type": "stream",
     "text": [
      "{'start': {'a': 6, 'b': 2}, 'a': {'fin': 1}, 'b': {'a': 3, 'fin': 5}, 'fin': {}}\n"
     ]
    }
   ],
   "source": [
    "print(graph)"
   ]
  },
  {
   "cell_type": "markdown",
   "metadata": {},
   "source": [
    "创建最开始已知的父子关系`parents(dict)`  \n",
    "最开始的**父节点start** 与 **子节点a跟b**的关系"
   ]
  },
  {
   "cell_type": "code",
   "execution_count": 4,
   "metadata": {},
   "outputs": [],
   "source": [
    "parents = {}\n",
    "parents['a'] = 'start'\n",
    "parents['b'] = 'start'\n",
    "parents['fin'] = None"
   ]
  },
  {
   "cell_type": "markdown",
   "metadata": {},
   "source": [
    "创建一个最开始已知的消费关系`costs(dict)`  \n",
    "最开始**起点到a**的消费为6,**起点到b**的消费为2  "
   ]
  },
  {
   "cell_type": "code",
   "execution_count": 5,
   "metadata": {},
   "outputs": [],
   "source": [
    "infinity = float('inf')\n",
    "costs = {}\n",
    "costs['a'] = 6\n",
    "costs['b'] = 2\n",
    "costs['fin'] = infinity"
   ]
  },
  {
   "cell_type": "markdown",
   "metadata": {},
   "source": [
    "创建一个**函数find_lowest_cost_node**,找出costs字典中最便宜的节点  \n",
    "先创建一个在costs中没有的节点None，让它的数值为无限大`float('inf')`  \n",
    "循环遍历costs,以及检测节点是否之前已经检测过，找出最便宜的节点lowest_cost_node\n",
    "\n",
    "找出最便宜的节点  \n",
    "获取该节点的开销和邻居\n",
    "\n",
    "遍历所有开销节点，因为题目比较简单，只有start，a，b，fin，所以需要遍历的只有三个节点（a，b，fin）  \n",
    "假如a，b还有邻居，就不是这么简单了  \n",
    "每个节点都有开销，开销指的是从起点前往该节点需要多长时间  \n",
    "对新旧开销进行比较\n",
    "如果找到更便宜的开销，就更新邻居的开销，以及更新邻居的父节点  "
   ]
  },
  {
   "cell_type": "code",
   "execution_count": 11,
   "metadata": {},
   "outputs": [],
   "source": [
    "processed = []\n",
    "\n",
    "def find_lowest_cost_node(costs):\n",
    "    '''\n",
    "    找出costs字典中最便宜的节点\n",
    "    '''\n",
    "    lowest_cost = float(\"inf\")\n",
    "    lowest_cost_node = None\n",
    "    for node in costs:\n",
    "        cost = costs[node]\n",
    "        if cost < lowest_cost and node not in processed:\n",
    "            lowest_cost = cost\n",
    "            lowest_cost_node = node\n",
    "    return lowest_cost_node\n",
    "\n",
    "node = find_lowest_cost_node(costs)\n",
    "while node is not None:\n",
    "    cost = costs[node]\n",
    "    neighbors = graph[node]\n",
    "    for n in neighbors.keys():\n",
    "        new_cost = cost + neighbors[n]\n",
    "        if costs[n] > new_cost:\n",
    "            costs[n] = new_cost\n",
    "            parents[n] = node\n",
    "    processed.append(node)\n",
    "    node = find_lowest_cost_node(costs)"
   ]
  },
  {
   "cell_type": "code",
   "execution_count": 12,
   "metadata": {},
   "outputs": [
    {
     "name": "stdout",
     "output_type": "stream",
     "text": [
      "{'start': {'a': 6, 'b': 2}, 'a': {'fin': 1}, 'b': {'a': 3, 'fin': 5}, 'fin': {}}\n",
      "{'a': 5, 'b': 2, 'fin': 6}\n",
      "{'a': 'b', 'b': 'start', 'fin': 'a'}\n",
      "所以路径为fin-->a-->b-->start\n"
     ]
    }
   ],
   "source": [
    "if __name__ == '__main__':\n",
    "    print(graph)\n",
    "    print(costs)\n",
    "    print(parents)\n",
    "    print(\"所以路径为fin-->\" + parents['fin']+ '-->' + parents['a'] + '-->' + parents['b'])"
   ]
  },
  {
   "cell_type": "code",
   "execution_count": null,
   "metadata": {},
   "outputs": [],
   "source": []
  }
 ],
 "metadata": {
  "kernelspec": {
   "display_name": "Python 3",
   "language": "python",
   "name": "python3"
  },
  "language_info": {
   "codemirror_mode": {
    "name": "ipython",
    "version": 3
   },
   "file_extension": ".py",
   "mimetype": "text/x-python",
   "name": "python",
   "nbconvert_exporter": "python",
   "pygments_lexer": "ipython3",
   "version": "3.7.4"
  }
 },
 "nbformat": 4,
 "nbformat_minor": 4
}
