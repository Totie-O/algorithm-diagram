{
 "cells": [
  {
   "cell_type": "markdown",
   "metadata": {},
   "source": [
    "# 广度优先搜索  "
   ]
  },
  {
   "cell_type": "markdown",
   "metadata": {},
   "source": [
    "首先建立人物关系模型，我跟一度朋友的关系，一度朋友跟二度朋友的关系\n",
    "\n",
    "1. 建立一个**空队列**  \n",
    "2. 建立**我**跟**我的一度朋友**的关系模型，然后把我认识的**一度朋友**添加到空队列进去  \n",
    "   建立**一度朋友**跟**二度朋友**的关系模型，当我的一度朋友不是经销商时，把他的二度朋友添加到空队列后面  \n",
    "3. 然后创建一个空列表\n",
    "4. 迭代（**防止重复性检验**）\n",
    "    1. 取出队列的第一个姓名\n",
    "    2. 检查是否是经销商\n",
    "        * 如果是，则返回True\n",
    "        * 如果不是，把**他的朋友（对于我来说是二度朋友）**添加到后面的队列中，并把他的名字添加到列表中，继续循环\n",
    "5. 找不到芒果经销商则返回False"
   ]
  },
  {
   "cell_type": "code",
   "execution_count": 1,
   "metadata": {},
   "outputs": [],
   "source": [
    "graph = {}\n",
    "# 我跟一度朋友的关系\n",
    "graph['you'] = ['alice', 'bob', 'claire']\n",
    "# 一度朋友跟二度朋友的关系\n",
    "graph['bob'] = ['anuj', 'peggy']\n",
    "graph['alice'] = ['peggy']\n",
    "graph['claire'] = ['thom', 'jonny']\n",
    "# 二度朋友关系的衍生\n",
    "graph['anuj'] = []\n",
    "graph['peggy'] = []\n",
    "graph['thom'] = []\n",
    "graph['jonny'] = []"
   ]
  },
  {
   "cell_type": "code",
   "execution_count": 2,
   "metadata": {},
   "outputs": [],
   "source": [
    "from collections import deque\n",
    "\n",
    "def search(name):\n",
    "    search_queue = deque() # 创建一个空的队列\n",
    "    search_queue += graph[name] # 把我的一度朋友添加进去\n",
    "    searched = [] #创建一个空列表，将检查过的姓名添加进去，防止重复检查\n",
    "    while search_queue:\n",
    "        person = search_queue.popleft()\n",
    "        if person not in searched: # 检查这个人是否检查过了，防止重复检查，陷入死循环\n",
    "            if person_is_seller(person):# 检查是否是芒果经销商\n",
    "                print(person + ' is a mango seller!')\n",
    "                return True\n",
    "            else:\n",
    "                search_queue += graph[person] # 如果不是经销商则将他的朋友添加到队的后面\n",
    "                searched.append(person)\n",
    "    return False #认识的朋友没有芒果经销商，则返回False\n",
    "\n",
    "    \n",
    "def person_is_seller(name): # 定义一个函数检查这个人是否是经销商\n",
    "    return name[-1] == 'm'"
   ]
  },
  {
   "cell_type": "code",
   "execution_count": 3,
   "metadata": {},
   "outputs": [
    {
     "name": "stdout",
     "output_type": "stream",
     "text": [
      "thom is a mango seller!\n"
     ]
    },
    {
     "data": {
      "text/plain": [
       "True"
      ]
     },
     "execution_count": 3,
     "metadata": {},
     "output_type": "execute_result"
    }
   ],
   "source": [
    "search('you')"
   ]
  },
  {
   "cell_type": "code",
   "execution_count": null,
   "metadata": {},
   "outputs": [],
   "source": []
  }
 ],
 "metadata": {
  "kernelspec": {
   "display_name": "Python 3",
   "language": "python",
   "name": "python3"
  },
  "language_info": {
   "codemirror_mode": {
    "name": "ipython",
    "version": 3
   },
   "file_extension": ".py",
   "mimetype": "text/x-python",
   "name": "python",
   "nbconvert_exporter": "python",
   "pygments_lexer": "ipython3",
   "version": "3.7.4"
  }
 },
 "nbformat": 4,
 "nbformat_minor": 4
}
