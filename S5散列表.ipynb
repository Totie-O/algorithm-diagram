{
 "cells": [
  {
   "cell_type": "code",
   "execution_count": 1,
   "metadata": {},
   "outputs": [],
   "source": [
    "book = dict()\n",
    "book['apple'] = 0.67\n",
    "book['milk'] = 1.49\n",
    "book['avocado'] = 1.49"
   ]
  },
  {
   "cell_type": "code",
   "execution_count": 2,
   "metadata": {},
   "outputs": [
    {
     "name": "stdout",
     "output_type": "stream",
     "text": [
      "{'apple': 0.67, 'milk': 1.49, 'avocado': 1.49}\n",
      "1.49\n"
     ]
    }
   ],
   "source": [
    "print(book)\n",
    "print(book['avocado'])"
   ]
  },
  {
   "cell_type": "code",
   "execution_count": 3,
   "metadata": {},
   "outputs": [],
   "source": [
    "voted = {}\n",
    "def check_voter(name):\n",
    "    if voted.get(name):\n",
    "        print('kick them out!')\n",
    "    else:\n",
    "        voted[name] = True\n",
    "        print('let them vote!')"
   ]
  },
  {
   "cell_type": "code",
   "execution_count": 4,
   "metadata": {},
   "outputs": [
    {
     "name": "stdout",
     "output_type": "stream",
     "text": [
      "let them vote!\n",
      "let them vote!\n",
      "kick them out!\n"
     ]
    }
   ],
   "source": [
    "check_voter('tom')\n",
    "check_voter('mike')\n",
    "check_voter('mike')"
   ]
  },
  {
   "cell_type": "code",
   "execution_count": null,
   "metadata": {},
   "outputs": [],
   "source": []
  }
 ],
 "metadata": {
  "kernelspec": {
   "display_name": "Python 3",
   "language": "python",
   "name": "python3"
  },
  "language_info": {
   "codemirror_mode": {
    "name": "ipython",
    "version": 3
   },
   "file_extension": ".py",
   "mimetype": "text/x-python",
   "name": "python",
   "nbconvert_exporter": "python",
   "pygments_lexer": "ipython3",
   "version": "3.7.4"
  }
 },
 "nbformat": 4,
 "nbformat_minor": 4
}
