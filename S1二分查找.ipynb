{
 "cells": [
  {
   "cell_type": "markdown",
   "metadata": {},
   "source": [
    "# 二分查找"
   ]
  },
  {
   "cell_type": "markdown",
   "metadata": {},
   "source": [
    "1. 因为数组有序排列，从小到大排（或者从大到小排），可得最小值位置，可得最大值位置，求得中间值位置。  \n",
    "   最小值位置`low=0`，最大值位置`high=len(list)-1`，中间值位置`mid=(high+low)/2`\n",
    "2. 比大小。\n",
    "   * 假如*查找数值item*比中间值小，则重新定义**最大值位置**，`high = mid - 1`\n",
    "   * 假如*查找数值item*比中间值大，则重新定义**最小值位置**，`low = mid + 1`\n",
    "3. 不断迭代，不断缩小范围，直到满足条件退出。"
   ]
  },
  {
   "cell_type": "code",
   "execution_count": 3,
   "metadata": {},
   "outputs": [],
   "source": [
    "def binary_search(list, item):\n",
    "    '''\n",
    "    使用二分查找，求得item位置\n",
    "    '''\n",
    "    low = 0 # 最小位置\n",
    "    high = len(list) - 1 # 最大位置\n",
    "    \n",
    "    while low <= high: # 不断迭代，不断缩小范围，直到满足条件退出\n",
    "        \n",
    "        mid = int((high + low) / 2) # 求得中间位置，假如中间值是含有小数点，则对中间值进行取整\n",
    "        guess = list[mid] # 求得中间值，并赋值给guess\n",
    "        \n",
    "        if guess == item: # 中间值guess与查找数值item进行比较，假如相等，guess就是想要查找的数据\n",
    "            return mid # 返回中间位置\n",
    "        \n",
    "        elif guess > item: # 中间值guess与查找数值item进行比较，假如中间值guess大于查找数值item\n",
    "            high = mid - 1 # 则重新定义最大值的位置，然后开始下一轮while循环，直到满足条件退出\n",
    "            \n",
    "        else: # 中间值guess与item进行比较，假如中间值guess小于item \n",
    "            low = mid + 1 # 则重新定义最小值的位置，然后开始下一轮while循环，直到满足条件退出\n",
    "            \n",
    "    return None # 找不到满足条件的值，返回一个None"
   ]
  },
  {
   "cell_type": "code",
   "execution_count": 5,
   "metadata": {},
   "outputs": [
    {
     "data": {
      "text/plain": [
       "11"
      ]
     },
     "execution_count": 5,
     "metadata": {},
     "output_type": "execute_result"
    }
   ],
   "source": [
    "my_list = [1, 3, 5, 7, 9, 11, 13, 15, 17, 19, 55, 57, 59, 61, 97, 99]\n",
    "\n",
    "binary_search(my_list, 57)"
   ]
  },
  {
   "cell_type": "code",
   "execution_count": null,
   "metadata": {},
   "outputs": [],
   "source": []
  },
  {
   "cell_type": "code",
   "execution_count": null,
   "metadata": {},
   "outputs": [],
   "source": []
  }
 ],
 "metadata": {
  "kernelspec": {
   "display_name": "Python 3",
   "language": "python",
   "name": "python3"
  },
  "language_info": {
   "codemirror_mode": {
    "name": "ipython",
    "version": 3
   },
   "file_extension": ".py",
   "mimetype": "text/x-python",
   "name": "python",
   "nbconvert_exporter": "python",
   "pygments_lexer": "ipython3",
   "version": "3.7.4"
  }
 },
 "nbformat": 4,
 "nbformat_minor": 4
}
