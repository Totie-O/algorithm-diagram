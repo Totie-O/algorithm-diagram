{
 "cells": [
  {
   "cell_type": "code",
   "execution_count": 2,
   "metadata": {},
   "outputs": [],
   "source": [
    "def sum(arr):\n",
    "    '''\n",
    "    没有使用递归，只是单纯循环迭代total\n",
    "    '''\n",
    "    total = 0\n",
    "    for x in arr:\n",
    "        total += x\n",
    "    return total"
   ]
  },
  {
   "cell_type": "code",
   "execution_count": 3,
   "metadata": {},
   "outputs": [
    {
     "data": {
      "text/plain": [
       "169"
      ]
     },
     "execution_count": 3,
     "metadata": {},
     "output_type": "execute_result"
    }
   ],
   "source": [
    "lst = [27, 4, 13, 18, 17, 31, 32, 1, 6, 20]\n",
    "\n",
    "sum(lst)"
   ]
  },
  {
   "cell_type": "code",
   "execution_count": 4,
   "metadata": {},
   "outputs": [],
   "source": [
    "def sum(arr):\n",
    "    if arr == []: #基线条件为当数组为空时，返回0\n",
    "        return 0\n",
    "    return (lst[0] + sum(arr[1:])) # 每次从数组取出第一个数，后续的数组继续进行递归"
   ]
  },
  {
   "cell_type": "code",
   "execution_count": 5,
   "metadata": {},
   "outputs": [
    {
     "data": {
      "text/plain": [
       "270"
      ]
     },
     "execution_count": 5,
     "metadata": {},
     "output_type": "execute_result"
    }
   ],
   "source": [
    "lst = [27, 4, 13, 18, 17, 31, 32, 1, 6, 20]\n",
    "\n",
    "sum(lst)"
   ]
  },
  {
   "cell_type": "markdown",
   "metadata": {},
   "source": [
    "## 递归\n",
    "基线条件为当数组为**空**时，返回0  \n",
    "不满足基线条件时，每次从数组取出第一个数，后续的数组继续进行递归调用"
   ]
  },
  {
   "cell_type": "markdown",
   "metadata": {},
   "source": [
    "### 切片知识补充 \n",
    "```python\n",
    "lst = [1]\n",
    "print(lst[0])\n",
    "print(lst[1:0])\n",
    "```\n",
    "上面这段代码，当数组只有一个数值时，输出第一个数`print(lst[0])`，该值为`1`  \n",
    "然后执行下面这段代码`print(lst[1:0])`，不会产生错误，而是返回`[]`"
   ]
  },
  {
   "cell_type": "code",
   "execution_count": 15,
   "metadata": {},
   "outputs": [
    {
     "name": "stdout",
     "output_type": "stream",
     "text": [
      "1\n",
      "[]\n"
     ]
    }
   ],
   "source": [
    "lst = [1]\n",
    "print(lst[0])\n",
    "print(lst[1:0])"
   ]
  },
  {
   "cell_type": "code",
   "execution_count": 8,
   "metadata": {},
   "outputs": [],
   "source": [
    "def count_number(lst):\n",
    "    if lst == []:\n",
    "        return 0\n",
    "    return (1 + count_number(lst[1:]))"
   ]
  },
  {
   "cell_type": "code",
   "execution_count": 9,
   "metadata": {},
   "outputs": [
    {
     "data": {
      "text/plain": [
       "10"
      ]
     },
     "execution_count": 9,
     "metadata": {},
     "output_type": "execute_result"
    }
   ],
   "source": [
    "count_number([27, 4, 13, 18, 17, 31, 32, 1, 6, 20])"
   ]
  },
  {
   "cell_type": "markdown",
   "metadata": {},
   "source": [
    "## 找出列表最大的数值\n",
    "基线条件：当列表只有两个值时，返回更大的那个值  \n",
    "递归条件：先取出列表第一个值，列表后续的值不断迭代，直到列表只剩两个值，满足递归条件，返回一个值（sub_max)，  \n",
    "然后利用递归回来的sub_max，不断与之前取出的**第一个值**做比较，返回较大的值，一直递归回去，得到最大值"
   ]
  },
  {
   "cell_type": "markdown",
   "metadata": {},
   "source": [
    "### 补充\n",
    "当递归到基线条件时，sub_max返回的是一个值"
   ]
  },
  {
   "cell_type": "code",
   "execution_count": 16,
   "metadata": {},
   "outputs": [],
   "source": [
    "def max(list):\n",
    "    if len(list) == 2:\n",
    "        return list[0] if list[0] > list[1] else list[1]\n",
    "    sub_max = max(list[1:])\n",
    "    return list[0] if list[0] > sub_max else sub_max"
   ]
  },
  {
   "cell_type": "code",
   "execution_count": 17,
   "metadata": {},
   "outputs": [],
   "source": [
    "def try_max(list):\n",
    "    \n",
    "    if len(list) == 2: # 基线条件：当列表只有两个值时，返回较大的那个值\n",
    "        if list[0] > list[1]:\n",
    "            return list[0]\n",
    "        else:\n",
    "            return list[1]\n",
    "    \n",
    "    sub_max = max(list[1:]) # 对列表的后续数值继续进行递归调用，直到满足基线条件\n",
    "    \n",
    "    sub_first = list[0] # 取出第一个值\n",
    "    if sub_first > sub_max:\n",
    "        return sub_first\n",
    "    else:\n",
    "        return sub_max"
   ]
  },
  {
   "cell_type": "code",
   "execution_count": 19,
   "metadata": {},
   "outputs": [
    {
     "name": "stdout",
     "output_type": "stream",
     "text": [
      "1000\n",
      "1001\n"
     ]
    }
   ],
   "source": [
    "print(max([27, 4, 13,1000, 18, 17, 31, 32, 1, 6, 20, 111, 500]))\n",
    "print(try_max([27, 4, 13, 500, 18, 17, 31, 32, 1, 6, 20, 111, 200,1000,1001]))"
   ]
  },
  {
   "cell_type": "code",
   "execution_count": 60,
   "metadata": {},
   "outputs": [
    {
     "data": {
      "text/plain": [
       "5"
      ]
     },
     "execution_count": 60,
     "metadata": {},
     "output_type": "execute_result"
    }
   ],
   "source": [
    "try_max([2, 5, 3, 4])"
   ]
  },
  {
   "cell_type": "markdown",
   "metadata": {},
   "source": [
    "## 快速排序"
   ]
  },
  {
   "cell_type": "markdown",
   "metadata": {},
   "source": [
    "基线条件：当数组为空或者只有一个元素时，该数组是有序的  \n",
    "递归条件：以第一个值为基准值，然后根据基准值对原数组拆分为两个数组，一个大于基准值的数组，另一个小于基准值的数组  \n",
    "当不满足基线条件时，继续对拆分出来的两个数组继续按照上面的方法进行拆分，直到满足基线条件退出。"
   ]
  },
  {
   "cell_type": "code",
   "execution_count": 20,
   "metadata": {},
   "outputs": [],
   "source": [
    "def quicksort(array):\n",
    "    '''\n",
    "    对数组进行快速排序\n",
    "    '''\n",
    "    if len(array) < 2: # 基线条件：为空或只包含一个元素的数组是有序的\n",
    "        return array\n",
    "    \n",
    "    else:\n",
    "        pivot = array[0] # 选择基准值\n",
    "        \n",
    "        less = [i for i in array[1:] if i <= pivot] # 由所有小于等于基准值的元素组成的子数组\n",
    "        greater = [i for i in array[1:] if i > pivot] # 由所有大于基准值的元素组成的子数组\n",
    "        \n",
    "        return quicksort(less) + [pivot] + quicksort(greater)"
   ]
  },
  {
   "cell_type": "code",
   "execution_count": 23,
   "metadata": {},
   "outputs": [
    {
     "name": "stdout",
     "output_type": "stream",
     "text": [
      "[13, 76, 45, 63, 85, 93, 65, 38, 77, 86]\n"
     ]
    }
   ],
   "source": [
    "import random\n",
    "\n",
    "lst = []\n",
    "for i in range(10):\n",
    "    lst.append(random.randint(1,100))\n",
    "print(lst)"
   ]
  },
  {
   "cell_type": "code",
   "execution_count": 24,
   "metadata": {},
   "outputs": [
    {
     "data": {
      "text/plain": [
       "[13, 38, 45, 63, 65, 76, 77, 85, 86, 93]"
      ]
     },
     "execution_count": 24,
     "metadata": {},
     "output_type": "execute_result"
    }
   ],
   "source": [
    "quicksort(lst)"
   ]
  },
  {
   "cell_type": "code",
   "execution_count": null,
   "metadata": {},
   "outputs": [],
   "source": []
  }
 ],
 "metadata": {
  "kernelspec": {
   "display_name": "Python 3",
   "language": "python",
   "name": "python3"
  },
  "language_info": {
   "codemirror_mode": {
    "name": "ipython",
    "version": 3
   },
   "file_extension": ".py",
   "mimetype": "text/x-python",
   "name": "python",
   "nbconvert_exporter": "python",
   "pygments_lexer": "ipython3",
   "version": "3.7.4"
  }
 },
 "nbformat": 4,
 "nbformat_minor": 4
}
